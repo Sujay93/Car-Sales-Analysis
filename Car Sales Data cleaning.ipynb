{
 "cells": [
  {
   "cell_type": "code",
   "execution_count": 1,
   "id": "ea7e86e4",
   "metadata": {},
   "outputs": [],
   "source": [
    "## Importing the libraries for data cleaning\n",
    "\n",
    "import pandas as pd"
   ]
  },
  {
   "cell_type": "code",
   "execution_count": 22,
   "id": "03484986",
   "metadata": {},
   "outputs": [
    {
     "data": {
      "text/html": [
       "<div>\n",
       "<style scoped>\n",
       "    .dataframe tbody tr th:only-of-type {\n",
       "        vertical-align: middle;\n",
       "    }\n",
       "\n",
       "    .dataframe tbody tr th {\n",
       "        vertical-align: top;\n",
       "    }\n",
       "\n",
       "    .dataframe thead th {\n",
       "        text-align: right;\n",
       "    }\n",
       "</style>\n",
       "<table border=\"1\" class=\"dataframe\">\n",
       "  <thead>\n",
       "    <tr style=\"text-align: right;\">\n",
       "      <th></th>\n",
       "      <th>Brand</th>\n",
       "      <th>Model</th>\n",
       "      <th>Year</th>\n",
       "      <th>Status</th>\n",
       "      <th>Mileage</th>\n",
       "      <th>Dealer</th>\n",
       "      <th>Price</th>\n",
       "    </tr>\n",
       "  </thead>\n",
       "  <tbody>\n",
       "    <tr>\n",
       "      <th>0</th>\n",
       "      <td>Mazda</td>\n",
       "      <td>CX-5</td>\n",
       "      <td>2023</td>\n",
       "      <td>New</td>\n",
       "      <td>NaN</td>\n",
       "      <td>NaN</td>\n",
       "      <td>36703.0</td>\n",
       "    </tr>\n",
       "    <tr>\n",
       "      <th>1</th>\n",
       "      <td>Kia</td>\n",
       "      <td>Sportage</td>\n",
       "      <td>2023</td>\n",
       "      <td>New</td>\n",
       "      <td>NaN</td>\n",
       "      <td>Classic Kia</td>\n",
       "      <td>28990.0</td>\n",
       "    </tr>\n",
       "    <tr>\n",
       "      <th>2</th>\n",
       "      <td>Chevrolet</td>\n",
       "      <td>Camaro</td>\n",
       "      <td>2024</td>\n",
       "      <td>New</td>\n",
       "      <td>NaN</td>\n",
       "      <td>Classic Chevrolet Beaumont</td>\n",
       "      <td>41425.0</td>\n",
       "    </tr>\n",
       "    <tr>\n",
       "      <th>3</th>\n",
       "      <td>Ford</td>\n",
       "      <td>Bronco</td>\n",
       "      <td>2023</td>\n",
       "      <td>Used</td>\n",
       "      <td>1551.0</td>\n",
       "      <td>Mike Smith Chrysler Dodge Jeep RAM</td>\n",
       "      <td>58900.0</td>\n",
       "    </tr>\n",
       "    <tr>\n",
       "      <th>4</th>\n",
       "      <td>Acura</td>\n",
       "      <td>TLX</td>\n",
       "      <td>2021</td>\n",
       "      <td>Used</td>\n",
       "      <td>30384.0</td>\n",
       "      <td>Mike Smith Nissan</td>\n",
       "      <td>34499.0</td>\n",
       "    </tr>\n",
       "  </tbody>\n",
       "</table>\n",
       "</div>"
      ],
      "text/plain": [
       "       Brand     Model  Year Status  Mileage  \\\n",
       "0      Mazda      CX-5  2023    New      NaN   \n",
       "1        Kia  Sportage  2023    New      NaN   \n",
       "2  Chevrolet    Camaro  2024    New      NaN   \n",
       "3       Ford    Bronco  2023   Used   1551.0   \n",
       "4      Acura       TLX  2021   Used  30384.0   \n",
       "\n",
       "                               Dealer    Price  \n",
       "0                                 NaN  36703.0  \n",
       "1                         Classic Kia  28990.0  \n",
       "2          Classic Chevrolet Beaumont  41425.0  \n",
       "3  Mike Smith Chrysler Dodge Jeep RAM  58900.0  \n",
       "4                   Mike Smith Nissan  34499.0  "
      ]
     },
     "execution_count": 22,
     "metadata": {},
     "output_type": "execute_result"
    }
   ],
   "source": [
    "## Importing the data \n",
    "\n",
    "df = pd.read_csv(\"C:/Users/sujay/OneDrive/Desktop/US Cars Data.csv\")\n",
    "df.head()"
   ]
  },
  {
   "cell_type": "code",
   "execution_count": 23,
   "id": "db97d0e3",
   "metadata": {},
   "outputs": [
    {
     "data": {
      "text/plain": [
       "Brand          0\n",
       "Model          0\n",
       "Year           0\n",
       "Status         0\n",
       "Mileage    88953\n",
       "Dealer       328\n",
       "Price       3911\n",
       "dtype: int64"
      ]
     },
     "execution_count": 23,
     "metadata": {},
     "output_type": "execute_result"
    }
   ],
   "source": [
    "## Checking for null values in the data set\n",
    "\n",
    "df.isnull().sum()"
   ]
  },
  {
   "cell_type": "code",
   "execution_count": 24,
   "id": "caeddb38",
   "metadata": {},
   "outputs": [],
   "source": [
    "## Replacing the missing values in \"Mileage\" and \"Dealer\" columns respectively with \"Not Available\"\n",
    "\n",
    "df[[\"Mileage\",\"Dealer\"]]=df[[\"Mileage\",\"Dealer\"]].fillna(\"Not Available\")"
   ]
  },
  {
   "cell_type": "code",
   "execution_count": 25,
   "id": "0fb9d167",
   "metadata": {},
   "outputs": [
    {
     "data": {
      "text/plain": [
       "Brand       object\n",
       "Model       object\n",
       "Year         int64\n",
       "Status      object\n",
       "Mileage     object\n",
       "Dealer      object\n",
       "Price      float64\n",
       "dtype: object"
      ]
     },
     "execution_count": 25,
     "metadata": {},
     "output_type": "execute_result"
    }
   ],
   "source": [
    "## To check the data types \n",
    "\n",
    "df.dtypes"
   ]
  },
  {
   "cell_type": "code",
   "execution_count": 29,
   "id": "d81c6f63",
   "metadata": {},
   "outputs": [],
   "source": [
    "## Replacing the missing values in the \"Price\" column with the \"mean\" value\n",
    "\n",
    "df['Price'].fillna(df['Price'].mean(), inplace=True)"
   ]
  },
  {
   "cell_type": "code",
   "execution_count": 30,
   "id": "734a4321",
   "metadata": {},
   "outputs": [
    {
     "data": {
      "text/plain": [
       "Brand      0\n",
       "Model      0\n",
       "Year       0\n",
       "Status     0\n",
       "Mileage    0\n",
       "Dealer     0\n",
       "Price      0\n",
       "dtype: int64"
      ]
     },
     "execution_count": 30,
     "metadata": {},
     "output_type": "execute_result"
    }
   ],
   "source": [
    "## Checking for null values\n",
    "\n",
    "df.isnull().sum()"
   ]
  },
  {
   "cell_type": "code",
   "execution_count": 31,
   "id": "bc06c8ab",
   "metadata": {},
   "outputs": [],
   "source": [
    "df['Price'] = df['Price'].astype(int)"
   ]
  },
  {
   "cell_type": "code",
   "execution_count": 32,
   "id": "eb77eb28",
   "metadata": {},
   "outputs": [
    {
     "data": {
      "text/plain": [
       "Brand      object\n",
       "Model      object\n",
       "Year        int64\n",
       "Status     object\n",
       "Mileage    object\n",
       "Dealer     object\n",
       "Price       int32\n",
       "dtype: object"
      ]
     },
     "execution_count": 32,
     "metadata": {},
     "output_type": "execute_result"
    }
   ],
   "source": [
    "df.dtypes"
   ]
  },
  {
   "cell_type": "code",
   "execution_count": 33,
   "id": "502e79d1",
   "metadata": {},
   "outputs": [
    {
     "data": {
      "text/html": [
       "<div>\n",
       "<style scoped>\n",
       "    .dataframe tbody tr th:only-of-type {\n",
       "        vertical-align: middle;\n",
       "    }\n",
       "\n",
       "    .dataframe tbody tr th {\n",
       "        vertical-align: top;\n",
       "    }\n",
       "\n",
       "    .dataframe thead th {\n",
       "        text-align: right;\n",
       "    }\n",
       "</style>\n",
       "<table border=\"1\" class=\"dataframe\">\n",
       "  <thead>\n",
       "    <tr style=\"text-align: right;\">\n",
       "      <th></th>\n",
       "      <th>Brand</th>\n",
       "      <th>Model</th>\n",
       "      <th>Year</th>\n",
       "      <th>Status</th>\n",
       "      <th>Mileage</th>\n",
       "      <th>Dealer</th>\n",
       "      <th>Price</th>\n",
       "    </tr>\n",
       "  </thead>\n",
       "  <tbody>\n",
       "    <tr>\n",
       "      <th>0</th>\n",
       "      <td>Mazda</td>\n",
       "      <td>CX-5</td>\n",
       "      <td>2023</td>\n",
       "      <td>New</td>\n",
       "      <td>Not Available</td>\n",
       "      <td>Not Available</td>\n",
       "      <td>36703</td>\n",
       "    </tr>\n",
       "    <tr>\n",
       "      <th>1</th>\n",
       "      <td>Kia</td>\n",
       "      <td>Sportage</td>\n",
       "      <td>2023</td>\n",
       "      <td>New</td>\n",
       "      <td>Not Available</td>\n",
       "      <td>Classic Kia</td>\n",
       "      <td>28990</td>\n",
       "    </tr>\n",
       "    <tr>\n",
       "      <th>2</th>\n",
       "      <td>Chevrolet</td>\n",
       "      <td>Camaro</td>\n",
       "      <td>2024</td>\n",
       "      <td>New</td>\n",
       "      <td>Not Available</td>\n",
       "      <td>Classic Chevrolet Beaumont</td>\n",
       "      <td>41425</td>\n",
       "    </tr>\n",
       "    <tr>\n",
       "      <th>3</th>\n",
       "      <td>Ford</td>\n",
       "      <td>Bronco</td>\n",
       "      <td>2023</td>\n",
       "      <td>Used</td>\n",
       "      <td>1551.0</td>\n",
       "      <td>Mike Smith Chrysler Dodge Jeep RAM</td>\n",
       "      <td>58900</td>\n",
       "    </tr>\n",
       "    <tr>\n",
       "      <th>4</th>\n",
       "      <td>Acura</td>\n",
       "      <td>TLX</td>\n",
       "      <td>2021</td>\n",
       "      <td>Used</td>\n",
       "      <td>30384.0</td>\n",
       "      <td>Mike Smith Nissan</td>\n",
       "      <td>34499</td>\n",
       "    </tr>\n",
       "    <tr>\n",
       "      <th>...</th>\n",
       "      <td>...</td>\n",
       "      <td>...</td>\n",
       "      <td>...</td>\n",
       "      <td>...</td>\n",
       "      <td>...</td>\n",
       "      <td>...</td>\n",
       "      <td>...</td>\n",
       "    </tr>\n",
       "    <tr>\n",
       "      <th>144862</th>\n",
       "      <td>Chevrolet</td>\n",
       "      <td>Corvette</td>\n",
       "      <td>2023</td>\n",
       "      <td>New</td>\n",
       "      <td>Not Available</td>\n",
       "      <td>Chase Chevrolet</td>\n",
       "      <td>122455</td>\n",
       "    </tr>\n",
       "    <tr>\n",
       "      <th>144863</th>\n",
       "      <td>Chevrolet</td>\n",
       "      <td>Corvette</td>\n",
       "      <td>2023</td>\n",
       "      <td>New</td>\n",
       "      <td>Not Available</td>\n",
       "      <td>Chase Chevrolet</td>\n",
       "      <td>125930</td>\n",
       "    </tr>\n",
       "    <tr>\n",
       "      <th>144864</th>\n",
       "      <td>Jeep</td>\n",
       "      <td>Wrangler</td>\n",
       "      <td>2023</td>\n",
       "      <td>New</td>\n",
       "      <td>Not Available</td>\n",
       "      <td>Stockton Dodge Chrysler Jeep RAM</td>\n",
       "      <td>53715</td>\n",
       "    </tr>\n",
       "    <tr>\n",
       "      <th>144865</th>\n",
       "      <td>Jeep</td>\n",
       "      <td>Wrangler</td>\n",
       "      <td>2023</td>\n",
       "      <td>New</td>\n",
       "      <td>Not Available</td>\n",
       "      <td>Stockton Dodge Chrysler Jeep RAM</td>\n",
       "      <td>91450</td>\n",
       "    </tr>\n",
       "    <tr>\n",
       "      <th>144866</th>\n",
       "      <td>Chrysler</td>\n",
       "      <td>300</td>\n",
       "      <td>2023</td>\n",
       "      <td>New</td>\n",
       "      <td>Not Available</td>\n",
       "      <td>Stockton Dodge Chrysler Jeep RAM</td>\n",
       "      <td>52000</td>\n",
       "    </tr>\n",
       "  </tbody>\n",
       "</table>\n",
       "<p>144867 rows × 7 columns</p>\n",
       "</div>"
      ],
      "text/plain": [
       "            Brand     Model  Year Status        Mileage  \\\n",
       "0           Mazda      CX-5  2023    New  Not Available   \n",
       "1             Kia  Sportage  2023    New  Not Available   \n",
       "2       Chevrolet    Camaro  2024    New  Not Available   \n",
       "3            Ford    Bronco  2023   Used         1551.0   \n",
       "4           Acura       TLX  2021   Used        30384.0   \n",
       "...           ...       ...   ...    ...            ...   \n",
       "144862  Chevrolet  Corvette  2023    New  Not Available   \n",
       "144863  Chevrolet  Corvette  2023    New  Not Available   \n",
       "144864       Jeep  Wrangler  2023    New  Not Available   \n",
       "144865       Jeep  Wrangler  2023    New  Not Available   \n",
       "144866   Chrysler       300  2023    New  Not Available   \n",
       "\n",
       "                                    Dealer   Price  \n",
       "0                            Not Available   36703  \n",
       "1                              Classic Kia   28990  \n",
       "2               Classic Chevrolet Beaumont   41425  \n",
       "3       Mike Smith Chrysler Dodge Jeep RAM   58900  \n",
       "4                        Mike Smith Nissan   34499  \n",
       "...                                    ...     ...  \n",
       "144862                     Chase Chevrolet  122455  \n",
       "144863                     Chase Chevrolet  125930  \n",
       "144864    Stockton Dodge Chrysler Jeep RAM   53715  \n",
       "144865    Stockton Dodge Chrysler Jeep RAM   91450  \n",
       "144866    Stockton Dodge Chrysler Jeep RAM   52000  \n",
       "\n",
       "[144867 rows x 7 columns]"
      ]
     },
     "execution_count": 33,
     "metadata": {},
     "output_type": "execute_result"
    }
   ],
   "source": [
    "df"
   ]
  },
  {
   "cell_type": "code",
   "execution_count": 20,
   "id": "d12ff147",
   "metadata": {},
   "outputs": [
    {
     "data": {
      "text/plain": [
       "5389"
      ]
     },
     "execution_count": 20,
     "metadata": {},
     "output_type": "execute_result"
    }
   ],
   "source": [
    "df.duplicated().sum()b"
   ]
  },
  {
   "cell_type": "code",
   "execution_count": 41,
   "id": "555f1025",
   "metadata": {},
   "outputs": [
    {
     "data": {
      "text/plain": [
       "(144867, 7)"
      ]
     },
     "execution_count": 41,
     "metadata": {},
     "output_type": "execute_result"
    }
   ],
   "source": [
    "df.shape"
   ]
  },
  {
   "cell_type": "code",
   "execution_count": 36,
   "id": "84ebb176",
   "metadata": {},
   "outputs": [],
   "source": [
    "new_df = df.drop_duplicates(keep=False)"
   ]
  },
  {
   "cell_type": "code",
   "execution_count": 38,
   "id": "92779b28",
   "metadata": {},
   "outputs": [
    {
     "data": {
      "text/plain": [
       "0"
      ]
     },
     "execution_count": 38,
     "metadata": {},
     "output_type": "execute_result"
    }
   ],
   "source": [
    "new_df.duplicated().sum()"
   ]
  },
  {
   "cell_type": "code",
   "execution_count": 39,
   "id": "de095007",
   "metadata": {},
   "outputs": [
    {
     "data": {
      "text/html": [
       "<div>\n",
       "<style scoped>\n",
       "    .dataframe tbody tr th:only-of-type {\n",
       "        vertical-align: middle;\n",
       "    }\n",
       "\n",
       "    .dataframe tbody tr th {\n",
       "        vertical-align: top;\n",
       "    }\n",
       "\n",
       "    .dataframe thead th {\n",
       "        text-align: right;\n",
       "    }\n",
       "</style>\n",
       "<table border=\"1\" class=\"dataframe\">\n",
       "  <thead>\n",
       "    <tr style=\"text-align: right;\">\n",
       "      <th></th>\n",
       "      <th>Brand</th>\n",
       "      <th>Model</th>\n",
       "      <th>Year</th>\n",
       "      <th>Status</th>\n",
       "      <th>Mileage</th>\n",
       "      <th>Dealer</th>\n",
       "      <th>Price</th>\n",
       "    </tr>\n",
       "  </thead>\n",
       "  <tbody>\n",
       "    <tr>\n",
       "      <th>0</th>\n",
       "      <td>Mazda</td>\n",
       "      <td>CX-5</td>\n",
       "      <td>2023</td>\n",
       "      <td>New</td>\n",
       "      <td>Not Available</td>\n",
       "      <td>Not Available</td>\n",
       "      <td>36703</td>\n",
       "    </tr>\n",
       "    <tr>\n",
       "      <th>1</th>\n",
       "      <td>Kia</td>\n",
       "      <td>Sportage</td>\n",
       "      <td>2023</td>\n",
       "      <td>New</td>\n",
       "      <td>Not Available</td>\n",
       "      <td>Classic Kia</td>\n",
       "      <td>28990</td>\n",
       "    </tr>\n",
       "    <tr>\n",
       "      <th>2</th>\n",
       "      <td>Chevrolet</td>\n",
       "      <td>Camaro</td>\n",
       "      <td>2024</td>\n",
       "      <td>New</td>\n",
       "      <td>Not Available</td>\n",
       "      <td>Classic Chevrolet Beaumont</td>\n",
       "      <td>41425</td>\n",
       "    </tr>\n",
       "    <tr>\n",
       "      <th>3</th>\n",
       "      <td>Ford</td>\n",
       "      <td>Bronco</td>\n",
       "      <td>2023</td>\n",
       "      <td>Used</td>\n",
       "      <td>1551.0</td>\n",
       "      <td>Mike Smith Chrysler Dodge Jeep RAM</td>\n",
       "      <td>58900</td>\n",
       "    </tr>\n",
       "    <tr>\n",
       "      <th>4</th>\n",
       "      <td>Acura</td>\n",
       "      <td>TLX</td>\n",
       "      <td>2021</td>\n",
       "      <td>Used</td>\n",
       "      <td>30384.0</td>\n",
       "      <td>Mike Smith Nissan</td>\n",
       "      <td>34499</td>\n",
       "    </tr>\n",
       "    <tr>\n",
       "      <th>...</th>\n",
       "      <td>...</td>\n",
       "      <td>...</td>\n",
       "      <td>...</td>\n",
       "      <td>...</td>\n",
       "      <td>...</td>\n",
       "      <td>...</td>\n",
       "      <td>...</td>\n",
       "    </tr>\n",
       "    <tr>\n",
       "      <th>144862</th>\n",
       "      <td>Chevrolet</td>\n",
       "      <td>Corvette</td>\n",
       "      <td>2023</td>\n",
       "      <td>New</td>\n",
       "      <td>Not Available</td>\n",
       "      <td>Chase Chevrolet</td>\n",
       "      <td>122455</td>\n",
       "    </tr>\n",
       "    <tr>\n",
       "      <th>144863</th>\n",
       "      <td>Chevrolet</td>\n",
       "      <td>Corvette</td>\n",
       "      <td>2023</td>\n",
       "      <td>New</td>\n",
       "      <td>Not Available</td>\n",
       "      <td>Chase Chevrolet</td>\n",
       "      <td>125930</td>\n",
       "    </tr>\n",
       "    <tr>\n",
       "      <th>144864</th>\n",
       "      <td>Jeep</td>\n",
       "      <td>Wrangler</td>\n",
       "      <td>2023</td>\n",
       "      <td>New</td>\n",
       "      <td>Not Available</td>\n",
       "      <td>Stockton Dodge Chrysler Jeep RAM</td>\n",
       "      <td>53715</td>\n",
       "    </tr>\n",
       "    <tr>\n",
       "      <th>144865</th>\n",
       "      <td>Jeep</td>\n",
       "      <td>Wrangler</td>\n",
       "      <td>2023</td>\n",
       "      <td>New</td>\n",
       "      <td>Not Available</td>\n",
       "      <td>Stockton Dodge Chrysler Jeep RAM</td>\n",
       "      <td>91450</td>\n",
       "    </tr>\n",
       "    <tr>\n",
       "      <th>144866</th>\n",
       "      <td>Chrysler</td>\n",
       "      <td>300</td>\n",
       "      <td>2023</td>\n",
       "      <td>New</td>\n",
       "      <td>Not Available</td>\n",
       "      <td>Stockton Dodge Chrysler Jeep RAM</td>\n",
       "      <td>52000</td>\n",
       "    </tr>\n",
       "  </tbody>\n",
       "</table>\n",
       "<p>135618 rows × 7 columns</p>\n",
       "</div>"
      ],
      "text/plain": [
       "            Brand     Model  Year Status        Mileage  \\\n",
       "0           Mazda      CX-5  2023    New  Not Available   \n",
       "1             Kia  Sportage  2023    New  Not Available   \n",
       "2       Chevrolet    Camaro  2024    New  Not Available   \n",
       "3            Ford    Bronco  2023   Used         1551.0   \n",
       "4           Acura       TLX  2021   Used        30384.0   \n",
       "...           ...       ...   ...    ...            ...   \n",
       "144862  Chevrolet  Corvette  2023    New  Not Available   \n",
       "144863  Chevrolet  Corvette  2023    New  Not Available   \n",
       "144864       Jeep  Wrangler  2023    New  Not Available   \n",
       "144865       Jeep  Wrangler  2023    New  Not Available   \n",
       "144866   Chrysler       300  2023    New  Not Available   \n",
       "\n",
       "                                    Dealer   Price  \n",
       "0                            Not Available   36703  \n",
       "1                              Classic Kia   28990  \n",
       "2               Classic Chevrolet Beaumont   41425  \n",
       "3       Mike Smith Chrysler Dodge Jeep RAM   58900  \n",
       "4                        Mike Smith Nissan   34499  \n",
       "...                                    ...     ...  \n",
       "144862                     Chase Chevrolet  122455  \n",
       "144863                     Chase Chevrolet  125930  \n",
       "144864    Stockton Dodge Chrysler Jeep RAM   53715  \n",
       "144865    Stockton Dodge Chrysler Jeep RAM   91450  \n",
       "144866    Stockton Dodge Chrysler Jeep RAM   52000  \n",
       "\n",
       "[135618 rows x 7 columns]"
      ]
     },
     "execution_count": 39,
     "metadata": {},
     "output_type": "execute_result"
    }
   ],
   "source": [
    "new_df"
   ]
  },
  {
   "cell_type": "code",
   "execution_count": 40,
   "id": "1c4fcf91",
   "metadata": {},
   "outputs": [
    {
     "data": {
      "text/plain": [
       "Brand      0\n",
       "Model      0\n",
       "Year       0\n",
       "Status     0\n",
       "Mileage    0\n",
       "Dealer     0\n",
       "Price      0\n",
       "dtype: int64"
      ]
     },
     "execution_count": 40,
     "metadata": {},
     "output_type": "execute_result"
    }
   ],
   "source": [
    "new_df.isnull().sum()"
   ]
  },
  {
   "cell_type": "code",
   "execution_count": 42,
   "id": "adb7950c",
   "metadata": {},
   "outputs": [
    {
     "data": {
      "text/plain": [
       "(135618, 7)"
      ]
     },
     "execution_count": 42,
     "metadata": {},
     "output_type": "execute_result"
    }
   ],
   "source": [
    "new_df.shape"
   ]
  },
  {
   "cell_type": "code",
   "execution_count": 44,
   "id": "bccc80ac",
   "metadata": {},
   "outputs": [],
   "source": [
    "new_df.to_csv('cleaned_car_sales_data.csv', index=False)"
   ]
  }
 ],
 "metadata": {
  "kernelspec": {
   "display_name": "Python 3 (ipykernel)",
   "language": "python",
   "name": "python3"
  },
  "language_info": {
   "codemirror_mode": {
    "name": "ipython",
    "version": 3
   },
   "file_extension": ".py",
   "mimetype": "text/x-python",
   "name": "python",
   "nbconvert_exporter": "python",
   "pygments_lexer": "ipython3",
   "version": "3.12.7"
  }
 },
 "nbformat": 4,
 "nbformat_minor": 5
}
